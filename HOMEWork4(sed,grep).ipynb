{
  "nbformat": 4,
  "nbformat_minor": 0,
  "metadata": {
    "colab": {
      "provenance": []
    },
    "kernelspec": {
      "name": "python3",
      "display_name": "Python 3"
    },
    "language_info": {
      "name": "python"
    }
  },
  "cells": [
    {
      "cell_type": "markdown",
      "source": [
        "SED\n",
        "\n",
        "1 .Replace all occurrences of \"quick\" with \"swift\" in file1.txt inplace\n",
        "\n",
        "2 . Delete all lines containing the word \"dog\" in file1.txt inplace and save the backup to a file with .orig extension"
      ],
      "metadata": {
        "id": "mrsfvItWaYo6"
      }
    },
    {
      "cell_type": "code",
      "source": [
        "# 1\n",
        "!sed -i 's/quick/swift/g' file1.txt && cat file1.txt"
      ],
      "metadata": {
        "colab": {
          "base_uri": "https://localhost:8080/"
        },
        "id": "4cUKmpYhbsYg",
        "outputId": "2366b17f-f526-4f31-e6d1-a563e2ee7a06"
      },
      "execution_count": 15,
      "outputs": [
        {
          "output_type": "stream",
          "name": "stdout",
          "text": [
            "The swift brown fox jumps over the lazy dog.\r\n",
            "Pack the box with five dozen liquor jugs.\r\n",
            "How vexingly swift daft zebras jump!\r\n",
            "The five boxing wizards jump swiftly.\r\n",
            "Jackdaws love my big sphinx of quartz."
          ]
        }
      ]
    },
    {
      "cell_type": "code",
      "source": [
        "! sed -i.orig '/dog/d' file1.txt\n",
        "! cat file1.txt.orig"
      ],
      "metadata": {
        "colab": {
          "base_uri": "https://localhost:8080/"
        },
        "id": "GA0dAF7eduAv",
        "outputId": "b092ee6a-0a61-41b8-8e1d-00bfe6715652"
      },
      "execution_count": 18,
      "outputs": [
        {
          "output_type": "stream",
          "name": "stdout",
          "text": [
            "Pack the box with five dozen liquor jugs.\r\n",
            "How vexingly swift daft zebras jump!\r\n",
            "The five boxing wizards jump swiftly.\r\n",
            "Jackdaws love my big sphinx of quartz."
          ]
        }
      ]
    },
    {
      "cell_type": "markdown",
      "source": [
        "GREP\n",
        "1. Find all lines containing the word \"quick\" in file1.txt and save to quick.txt\n",
        "2. Count the number of lines containing the word \"the\" (case-insensitive) in file1.txt and save to the_count.txt\n",
        "\n",
        "3. Find all lines that start with \"The\" in file1.txt and save to the.txt\n",
        "4. Find all lines containing either \"fox\" or \"dog\" in file1.txt and save to animals.txt\n",
        "5. Extract all timestamps from file2.txt and save to timestamps.txt\n",
        "6. Find all ERROR and WARNING messages in file2.txt and save to errors.txt"
      ],
      "metadata": {
        "id": "nQM_GPPqarOT"
      }
    },
    {
      "cell_type": "code",
      "source": [
        "# 1\n",
        "\n",
        "! cat file11.txt\n",
        "! echo -e \"\\n\"\n",
        "! grep \"quick \" file11.txt > quick.txt\n",
        "! cat quick.txt"
      ],
      "metadata": {
        "colab": {
          "base_uri": "https://localhost:8080/"
        },
        "id": "J8XKy5AjeeX5",
        "outputId": "db2628c7-40a1-4f0d-d6fa-0d1d32482ee7"
      },
      "execution_count": 23,
      "outputs": [
        {
          "output_type": "stream",
          "name": "stdout",
          "text": [
            "The quick brown fox jumps over the lazy dog.\r\n",
            "Pack the box with five dozen liquor jugs.\r\n",
            "How vexingly quick daft zebras jump!\r\n",
            "The five boxing wizards jump quickly.\r\n",
            "Jackdaws love my big sphinx of quartz.\n",
            "\n",
            "The quick brown fox jumps over the lazy dog.\n",
            "How vexingly quick daft zebras jump!\n"
          ]
        }
      ]
    },
    {
      "cell_type": "code",
      "source": [
        "# 2\n",
        "! cat file11.txt\n",
        "! grep -i \"the\" file11.txt | wc -l > the_count.txt\n",
        "! echo -e \"\\n\"\n",
        "! cat the_count.txt"
      ],
      "metadata": {
        "colab": {
          "base_uri": "https://localhost:8080/"
        },
        "id": "I2uIb-eTfmhS",
        "outputId": "2b2044dd-dc24-4fe5-ed39-7110786425ec"
      },
      "execution_count": 25,
      "outputs": [
        {
          "output_type": "stream",
          "name": "stdout",
          "text": [
            "The quick brown fox jumps over the lazy dog.\r\n",
            "Pack the box with five dozen liquor jugs.\r\n",
            "How vexingly quick daft zebras jump!\r\n",
            "The five boxing wizards jump quickly.\r\n",
            "Jackdaws love my big sphinx of quartz.\n",
            "\n",
            "3\n"
          ]
        }
      ]
    },
    {
      "cell_type": "code",
      "source": [
        "# 3\n",
        "! cat file11.txt\n",
        "! grep \"^The\" file11.txt > the.txt\n",
        "! echo -e \"\\n\"\n",
        "! cat the.txt"
      ],
      "metadata": {
        "colab": {
          "base_uri": "https://localhost:8080/"
        },
        "id": "_femfG4hgS5_",
        "outputId": "79848e23-f120-472e-837c-1a0508947ea5"
      },
      "execution_count": 28,
      "outputs": [
        {
          "output_type": "stream",
          "name": "stdout",
          "text": [
            "The quick brown fox jumps over the lazy dog.\r\n",
            "Pack the box with five dozen liquor jugs.\r\n",
            "How vexingly quick daft zebras jump!\r\n",
            "The five boxing wizards jump quickly.\r\n",
            "Jackdaws love my big sphinx of quartz.\n",
            "\n",
            "The quick brown fox jumps over the lazy dog.\n",
            "The five boxing wizards jump quickly.\n"
          ]
        }
      ]
    },
    {
      "cell_type": "code",
      "source": [
        "# 4\n",
        "! cat file11.txt\n",
        "! echo -e \"\\n\"\n",
        "! grep \"fox\\|dog\" file11.txt > animals.txt\n",
        "! cat animals.txt"
      ],
      "metadata": {
        "colab": {
          "base_uri": "https://localhost:8080/"
        },
        "id": "8yqKG71ig_ee",
        "outputId": "3b4f6cb9-1f50-4a4a-a46e-9a3971843781"
      },
      "execution_count": 32,
      "outputs": [
        {
          "output_type": "stream",
          "name": "stdout",
          "text": [
            "The quick brown fox jumps over the lazy dog.\r\n",
            "Pack the box with five dozen liquor jugs.\r\n",
            "How vexingly quick daft zebras jump!\r\n",
            "The five boxing wizards jump quickly.\r\n",
            "Jackdaws love my big sphinx of quartz.\n",
            "\n",
            "The quick brown fox jumps over the lazy dog.\n"
          ]
        }
      ]
    },
    {
      "cell_type": "code",
      "source": [
        "# 5 (через \"!\" не прошло, нашла другой метод захода в bash)\n",
        "%%bash\n",
        "grep -o -E '[0-9]{2}:[0-9]{2}:[0-9]{2}' file22.txt > timestamps.txt\n",
        "cat timestamps.txt"
      ],
      "metadata": {
        "colab": {
          "base_uri": "https://localhost:8080/"
        },
        "id": "_0eb-WOxh3hQ",
        "outputId": "b7685b26-654b-4d37-c220-173c6c7ab6ee"
      },
      "execution_count": 60,
      "outputs": [
        {
          "output_type": "stream",
          "name": "stdout",
          "text": [
            "10:30:45\n",
            "10:31:22\n",
            "10:32:01\n",
            "10:33:15\n",
            "10:34:30\n"
          ]
        }
      ]
    },
    {
      "cell_type": "code",
      "source": [
        "%%bash\n",
        "grep -E 'ERROR|WARNING' file22.txt > errors.txt\n",
        "cat errors.txt"
      ],
      "metadata": {
        "colab": {
          "base_uri": "https://localhost:8080/"
        },
        "id": "TxTsqjMgmi5M",
        "outputId": "edc5fade-2aac-4e3c-d5c4-362a54a2aa90"
      },
      "execution_count": 61,
      "outputs": [
        {
          "output_type": "stream",
          "name": "stdout",
          "text": [
            "2023-03-15 10:31:22 ERROR Database connection failed\r\n",
            "2023-03-15 10:33:15 WARNING Disk space low\r\n",
            "2023-03-15 10:34:30 ERROR File not found\n"
          ]
        }
      ]
    }
  ]
}