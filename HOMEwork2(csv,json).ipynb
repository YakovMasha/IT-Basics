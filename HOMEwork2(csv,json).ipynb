{
  "nbformat": 4,
  "nbformat_minor": 0,
  "metadata": {
    "colab": {
      "provenance": []
    },
    "kernelspec": {
      "name": "python3",
      "display_name": "Python 3"
    },
    "language_info": {
      "name": "python"
    }
  },
  "cells": [
    {
      "cell_type": "markdown",
      "metadata": {
        "id": "erJA7aJU-vie"
      },
      "source": [
        "###  1 CSV"
      ]
    },
    {
      "cell_type": "code",
      "execution_count": null,
      "metadata": {
        "id": "F8bpNGEu-vif"
      },
      "outputs": [],
      "source": [
        "# Write a Python program to read each row from a given csv file and print a list of strings.\n",
        "import csv\n",
        "with open('csv1.csv', newline='') as csvfile:\n",
        "  # Читаем, указывая, что разделителем столбцов является пробел ' ', и символ кавычки — '|'\n",
        " data = csv.reader(csvfile, delimiter=' ', quotechar='|')\n",
        " for row in data:\n",
        "   print(', '.join(row))"
      ]
    },
    {
      "cell_type": "markdown",
      "metadata": {
        "id": "ga4WRXO0-vii"
      },
      "source": [
        "### 2 CSV"
      ]
    },
    {
      "cell_type": "code",
      "source": [
        "# Write a Python program to read a given CSV file having tab delimiter.\n",
        "import csv\n",
        "with open('CSV2.csv', newline='') as csvfile:\n",
        "  # открываем для чтения и раздеитель знак табуляции\n",
        " data = csv.reader(csvfile, delimiter = '\\t')\n",
        " #проходим строками и выводим на экран\n",
        " for row in data:\n",
        "   print(', '.join(row))"
      ],
      "metadata": {
        "id": "tBV3bqA3CTGm"
      },
      "execution_count": null,
      "outputs": []
    },
    {
      "cell_type": "markdown",
      "metadata": {
        "id": "9Es4PzYp-vij"
      },
      "source": [
        "### 3 CSV"
      ]
    },
    {
      "cell_type": "code",
      "execution_count": null,
      "metadata": {
        "id": "qDh9apMG-vik"
      },
      "outputs": [],
      "source": [
        "# Write a Python program to read a given CSV file as a list.\n",
        "import csv\n",
        "with open('CSV2.csv', newline='') as csvfile:\n",
        "   reader = csv.reader(csvfile)\n",
        "   data_list = list(reader)\n",
        "print(data_list)"
      ]
    },
    {
      "cell_type": "markdown",
      "metadata": {
        "id": "qnuC1RrW-vik"
      },
      "source": [
        "### 4 CSV"
      ]
    },
    {
      "cell_type": "code",
      "execution_count": null,
      "metadata": {
        "id": "2ZL-5ZEy-vik"
      },
      "outputs": [],
      "source": [
        "# Write a Python program to read a given CSV file as a dictionary.\n",
        "\n",
        "import csv\n",
        "# Открываем файл \"csv1.csv\" и создаем объект DictReader, который читает CSV-файл как словарь (ключи — это заголовки столбцов\n",
        "data = csv.DictReader(open(\"csv1.csv\"))\n",
        "print(\"CSV file as a dictionary:\\n\")\n",
        "for row in data:\n",
        "   print(row)"
      ]
    },
    {
      "cell_type": "markdown",
      "metadata": {
        "id": "43sHRf_I-vim"
      },
      "source": [
        "### 5 CSV"
      ]
    },
    {
      "cell_type": "code",
      "execution_count": null,
      "metadata": {
        "id": "6o6C_lf--vim"
      },
      "outputs": [],
      "source": [
        "#Write a Python program to read a given CSV files with initial spaces after a delimiter and remove those initial spaces.\n",
        "import csv\n",
        "print(\"\\nWith initial spaces after a delimiter:\\n\")\n",
        "\n",
        "# Открываем файл 'csv1.csv' для чтения\n",
        "with open('csv1.csv', 'r') as csvfile:\n",
        "    # Создаем объект reader для чтения CSV-файла, указывая, что начальные пробелы после разделителя не должны быть пропущены\n",
        "    data = csv.reader(csvfile, skipinitialspace=False)\n",
        "    for row in data:\n",
        "        print(', '.join(row))\n",
        "\n",
        "print(\"\\n\\nWithout initial spaces after a delimiter:\\n\")\n",
        "\n",
        "with open('csv1.csv', 'r') as csvfile:\n",
        "    #теперь с пропущенными пробелами\n",
        "    data = csv.reader(csvfile, skipinitialspace=True)\n",
        "\n",
        "    for row in data:\n",
        "        print(', '.join(row))"
      ]
    },
    {
      "cell_type": "markdown",
      "metadata": {
        "id": "gp6VtydjMADQ"
      },
      "source": [
        "### 1 JSON"
      ]
    },
    {
      "cell_type": "code",
      "source": [
        "# Write a Python program to convert JSON data to Python object.\n",
        "import json\n",
        "json_obj =  '{ \"Country\":\"Argentina\", \"Code\":\"ARG\", \"Capital\": \"Buenos-Ayres\" }'\n",
        "# превращаем JSON-строку в объект Python с помощью функции json.loads\n",
        "python_obj = json.loads(json_obj)\n",
        "# выводим данные объекта на экран\n",
        "print(\"Сountry: \",python_obj[\"Country\"])\n",
        "print(\"Code: \",python_obj[\"Code\"])\n",
        "print(\"Capital: \",python_obj[\"Capital\"])"
      ],
      "metadata": {
        "colab": {
          "base_uri": "https://localhost:8080/"
        },
        "id": "DL7oMC9ZMH4Y",
        "outputId": "f3abcccc-0140-4074-e74d-58ec17ee7936"
      },
      "execution_count": 11,
      "outputs": [
        {
          "output_type": "stream",
          "name": "stdout",
          "text": [
            "Сountry:  Argentina\n",
            "Code:  ARG\n",
            "Capital:  Buenos-Ayres\n"
          ]
        }
      ]
    },
    {
      "cell_type": "markdown",
      "metadata": {
        "id": "ny7jY5jiL-WO"
      },
      "source": [
        "### 2 JSON"
      ]
    },
    {
      "cell_type": "code",
      "source": [
        "# Write a Python program to convert Python object to JSON data.\n",
        "import json\n",
        "python_obj = {\n",
        "     \"country\": \"Argentina\",\n",
        "  \"Code\":\"ARG\",\n",
        "  \"Capital\": \"Buenos-Ayres\"\n",
        "  }\n",
        "# выводим объект python (словарь)\n",
        "print(type(python_obj))\n",
        "\n",
        "# Преобразуем объект Python в строку JSON с помощью функции json.dumps()\n",
        "j_data = json.dumps(python_obj)\n",
        "\n",
        "# result is a JSON string:\n",
        "print(j_data)"
      ],
      "metadata": {
        "colab": {
          "base_uri": "https://localhost:8080/"
        },
        "id": "ax0DA1VuMIjR",
        "outputId": "2d52065c-e16a-4e3a-f1f8-e44ae9ed9431"
      },
      "execution_count": 23,
      "outputs": [
        {
          "output_type": "stream",
          "name": "stdout",
          "text": [
            "<class 'dict'>\n",
            "{\"country\": \"Argentina\", \"Code\": \"ARG\", \"Capital\": \"Buenos-Ayres\"}\n"
          ]
        }
      ]
    },
    {
      "cell_type": "markdown",
      "metadata": {
        "id": "sUjBWNCUL2Yu"
      },
      "source": [
        "### 3 JSON"
      ]
    },
    {
      "cell_type": "code",
      "source": [
        "# Write a Python program to convert Python objects into JSON strings. Print all the values.\n",
        "import json\n",
        "#заводим объекты\n",
        "python_dict =  {\"country\": \"Argentina\", \"Code\": \"ARG\", \"Capital\": \"Buenos-Ayres\"}\n",
        "python_list =  [\"large\", \"medium\", \"small\"]\n",
        "python_str =  \"Python Json is crazy topic\"\n",
        "\n",
        "#превращаем в строки\n",
        "json_dict = json.dumps(python_dict)\n",
        "json_list = json.dumps(python_list)\n",
        "json_str = json.dumps(python_str)\n",
        "\n",
        "# выводим\n",
        "print(\"json dict : \", json_dict)\n",
        "print(\"json list : \", json_list)\n",
        "print(\"json string : \", json_str)\n"
      ],
      "metadata": {
        "colab": {
          "base_uri": "https://localhost:8080/"
        },
        "id": "IZXNvnqwMJOo",
        "outputId": "231cb347-8f18-4928-9703-e0462800c9af"
      },
      "execution_count": 29,
      "outputs": [
        {
          "output_type": "stream",
          "name": "stdout",
          "text": [
            "json dict :  {\"country\": \"Argentina\", \"Code\": \"ARG\", \"Capital\": \"Buenos-Ayres\"}\n",
            "json list :  [\"large\", \"medium\", \"small\"]\n",
            "json string :  \"Python Json is crazy topic\"\n"
          ]
        }
      ]
    },
    {
      "cell_type": "markdown",
      "metadata": {
        "id": "p7fNe8-aL8Rj"
      },
      "source": [
        "### 4 JSON"
      ]
    },
    {
      "cell_type": "code",
      "source": [
        "# Write a Python program to convert Python dictionary object (sort by key) to JSON data. Print the object members with indent level 4.\n",
        "\n",
        "import json\n",
        "\n",
        "python_dict = {\n",
        "    \"country\": \"Argentina\",\n",
        "    \"Code\": \"ARG\",\n",
        "    \"Capital\": \"Buenos-Ayres\"\n",
        "}\n",
        "#сортируем\n",
        "sorted_dict = dict(sorted(python_dict.items()))\n",
        "# превращаем в  с строчку json и задаем отступ\n",
        "json_data = json.dumps(sorted_dict, indent=4)\n",
        "print(\"JSON data:\")\n",
        "print(json_data)"
      ],
      "metadata": {
        "colab": {
          "base_uri": "https://localhost:8080/"
        },
        "id": "WIgqs2CxMJvV",
        "outputId": "c413ba1e-dad9-4051-e0c4-b478d6923454"
      },
      "execution_count": 35,
      "outputs": [
        {
          "output_type": "stream",
          "name": "stdout",
          "text": [
            "JSON data:\n",
            "{\n",
            "    \"Capital\": \"Buenos-Ayres\",\n",
            "    \"Code\": \"ARG\",\n",
            "    \"country\": \"Argentina\"\n",
            "}\n"
          ]
        }
      ]
    },
    {
      "cell_type": "markdown",
      "metadata": {
        "id": "5CZbQjn4MFik"
      },
      "source": [
        "### 5 JSON"
      ]
    },
    {
      "cell_type": "code",
      "source": [
        "# Write a Python program to convert JSON encoded data into Python objects.\n",
        "\n",
        "import json\n",
        "jobj_dict =  '{\"country\": \"Argentina\", \"Code\": \"ARG\", \"Capital\": \"Buenos-Ayres\"}'\n",
        "jobj_list =   '[\"large\", \"medium\", \"small\"]'\n",
        "jobj_string = '\"Python Json thank you\"'\n",
        "jobj_int = '1234'\n",
        "\n",
        "python_dict =  json.loads(jobj_dict)\n",
        "python_list = json.loads(jobj_list)\n",
        "python_str =  json.loads(jobj_string)\n",
        "python_int =   json.loads(jobj_int)\n",
        "\n",
        "print(\"Python dictionary: \", python_dict)\n",
        "print(\"Python list: \", python_list)\n",
        "print(\"Python string: \", python_str)\n",
        "print(\"Python integer: \", python_int)\n",
        "print(\"Python float: \", python_float)"
      ],
      "metadata": {
        "colab": {
          "base_uri": "https://localhost:8080/"
        },
        "id": "5lPSK7SxMKxq",
        "outputId": "d27e13f0-422c-4480-e9da-69aaa31904b1"
      },
      "execution_count": 38,
      "outputs": [
        {
          "output_type": "stream",
          "name": "stdout",
          "text": [
            "Python dictionary:  {'country': 'Argentina', 'Code': 'ARG', 'Capital': 'Buenos-Ayres'}\n",
            "Python list:  ['large', 'medium', 'small']\n",
            "Python string:  Python Json thank you\n",
            "Python integer:  1234\n",
            "Python float:  21.34\n"
          ]
        }
      ]
    }
  ]
}