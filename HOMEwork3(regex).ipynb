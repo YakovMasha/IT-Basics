{
  "nbformat": 4,
  "nbformat_minor": 0,
  "metadata": {
    "colab": {
      "provenance": []
    },
    "kernelspec": {
      "name": "python3",
      "display_name": "Python 3"
    },
    "language_info": {
      "name": "python"
    }
  },
  "cells": [
    {
      "cell_type": "markdown",
      "source": [
        "1 *Task*\n",
        ""
      ],
      "metadata": {
        "id": "EadoD346U2hQ"
      }
    },
    {
      "cell_type": "code",
      "source": [
        "#Find all words in a string that start with a capital letter. \"Hello world, this is a Regex example with Python.\"\n",
        "\n",
        "import re\n",
        "text = \"Hello world, this is a Regex example with Python.\"\n",
        " # регю  выражение для поиска слов с первой заглавной\n",
        "pattern = r'\\b[A-Z][a-z]*\\b'\n",
        "\n",
        "# ищем совпадений в строке\n",
        "matches = re.findall(pattern, text)\n",
        "for word in matches:\n",
        "    print(word)"
      ],
      "metadata": {
        "colab": {
          "base_uri": "https://localhost:8080/"
        },
        "id": "gYw9jRheU4jV",
        "outputId": "a89f049d-a64a-4131-c69c-adca34986fc8"
      },
      "execution_count": 2,
      "outputs": [
        {
          "output_type": "stream",
          "name": "stdout",
          "text": [
            "Hello\n",
            "Regex\n",
            "Python\n"
          ]
        }
      ]
    },
    {
      "cell_type": "markdown",
      "source": [
        "2 *Task*\n"
      ],
      "metadata": {
        "id": "IBCZigdkWawk"
      }
    },
    {
      "cell_type": "code",
      "source": [
        "# Replace all instances of \"is\" with \"was\" in the string. \"This is a test. This is only a test.\n",
        "import re\n",
        "text = \"This is a test. This is only a test.\"\n",
        "# Рег. выражение для поиска \"is\" как отдельного слова (пробелы по краям)\n",
        "pattern = r'\\bis\\b'\n",
        "# замена\n",
        "modified_string = re.sub(pattern, 'was', text)\n",
        "print(modified_string)"
      ],
      "metadata": {
        "colab": {
          "base_uri": "https://localhost:8080/"
        },
        "id": "T-zlvt7XV8ts",
        "outputId": "d87c12a6-dd0c-450c-b5cc-b20e1925a13c"
      },
      "execution_count": 3,
      "outputs": [
        {
          "output_type": "stream",
          "name": "stdout",
          "text": [
            "This was a test. This was only a test.\n"
          ]
        }
      ]
    },
    {
      "cell_type": "markdown",
      "source": [
        "3 *Task*\n"
      ],
      "metadata": {
        "id": "LCSLKxyuWgPZ"
      }
    },
    {
      "cell_type": "code",
      "source": [
        "#  Task: Extract All URLs from a Text \"\"\" Visit https://www.example.com or follow http://example.org. You can also check out https://another-example.com/path?arg=val for more details.\"\"\"\n",
        "import re\n",
        "text = \"Visit https://www.example.com or follow http://example.org. You can also check out https://another-example.com/path?arg=val for more details.\"\n",
        "pattern = r'https?://[^\\s]+'\n",
        "\n",
        "# ищем все\n",
        "urls = re.findall(pattern, text)\n",
        "\n",
        "# Вывод извлеченных URL\n",
        "for url in urls:\n",
        "    print(url)\n"
      ],
      "metadata": {
        "colab": {
          "base_uri": "https://localhost:8080/"
        },
        "id": "SgoKz3FXWnuq",
        "outputId": "cfaabb56-5a0d-4934-b592-5fb031fd8ad8"
      },
      "execution_count": 5,
      "outputs": [
        {
          "output_type": "stream",
          "name": "stdout",
          "text": [
            "https://www.example.com\n",
            "http://example.org.\n",
            "https://another-example.com/path?arg=val\n"
          ]
        }
      ]
    },
    {
      "cell_type": "markdown",
      "source": [
        "4 *Task*\n"
      ],
      "metadata": {
        "id": "EKMLSCLRWjCQ"
      }
    },
    {
      "cell_type": "code",
      "source": [
        "# Find all hashtags in a comment \"Loving the #sunset and #nature! #beautiful_day\"\n",
        "import re\n",
        "text = \"Loving the #sunset and #nature! #beautiful_day\"\n",
        "\n",
        "pattern = r'#\\w+'\n",
        "\n",
        "# ищем все\n",
        "hashtags = re.findall(pattern, text)\n",
        "\n",
        "print(hashtags)"
      ],
      "metadata": {
        "colab": {
          "base_uri": "https://localhost:8080/"
        },
        "id": "TmDyYeijXTNK",
        "outputId": "6b53cc2e-0bc9-4b6b-c392-7cd5eb31749a"
      },
      "execution_count": 10,
      "outputs": [
        {
          "output_type": "stream",
          "name": "stdout",
          "text": [
            "['#sunset', '#nature', '#beautiful_day']\n"
          ]
        }
      ]
    },
    {
      "cell_type": "markdown",
      "source": [
        "5 *Task*\n"
      ],
      "metadata": {
        "id": "4GwgwafgWjoO"
      }
    },
    {
      "cell_type": "code",
      "source": [
        "# Remove the repeated words \"This is is a test test string.\"\n",
        "\n",
        "import re\n",
        "text = \"This is is a test test string\"\n",
        "\n",
        "pattern = r'\\b(\\w+)\\s+\\1\\b'\n",
        "\n",
        "# меняем паттерн\n",
        "newtext=re.sub(pattern, r'\\1', text)\n",
        "print (newtext)\n"
      ],
      "metadata": {
        "colab": {
          "base_uri": "https://localhost:8080/"
        },
        "id": "3qz2NNzzX21k",
        "outputId": "01c88a5e-4a7a-4a89-9195-0e6161ffba10"
      },
      "execution_count": 17,
      "outputs": [
        {
          "output_type": "stream",
          "name": "stdout",
          "text": [
            "This is a test string\n"
          ]
        }
      ]
    }
  ]
}